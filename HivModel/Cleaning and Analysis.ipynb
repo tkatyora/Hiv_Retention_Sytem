{
 "cells": [
  {
   "cell_type": "code",
   "execution_count": 1,
   "id": "8d364e2d-3b40-429b-814f-61eae5a553af",
   "metadata": {},
   "outputs": [
    {
     "data": {
      "text/html": [
       "<div>\n",
       "<style scoped>\n",
       "    .dataframe tbody tr th:only-of-type {\n",
       "        vertical-align: middle;\n",
       "    }\n",
       "\n",
       "    .dataframe tbody tr th {\n",
       "        vertical-align: top;\n",
       "    }\n",
       "\n",
       "    .dataframe thead th {\n",
       "        text-align: right;\n",
       "    }\n",
       "</style>\n",
       "<table border=\"1\" class=\"dataframe\">\n",
       "  <thead>\n",
       "    <tr style=\"text-align: right;\">\n",
       "      <th></th>\n",
       "      <th>Age</th>\n",
       "      <th>Marital Staus</th>\n",
       "      <th>STD</th>\n",
       "      <th>Educational Background</th>\n",
       "      <th>HIV TEST IN PAST YEAR</th>\n",
       "      <th>AIDS education</th>\n",
       "      <th>Places of seeking sex partners</th>\n",
       "      <th>SEXUAL ORIENTATION</th>\n",
       "      <th>Drug- taking</th>\n",
       "      <th>Result</th>\n",
       "    </tr>\n",
       "  </thead>\n",
       "  <tbody>\n",
       "    <tr>\n",
       "      <th>0</th>\n",
       "      <td>22</td>\n",
       "      <td>UNMARRIED</td>\n",
       "      <td>NO</td>\n",
       "      <td>College Degree</td>\n",
       "      <td>YES</td>\n",
       "      <td>NO</td>\n",
       "      <td>Bar</td>\n",
       "      <td>Heterosexual</td>\n",
       "      <td>YES</td>\n",
       "      <td>POSITIVE</td>\n",
       "    </tr>\n",
       "    <tr>\n",
       "      <th>1</th>\n",
       "      <td>20</td>\n",
       "      <td>UNMARRIED</td>\n",
       "      <td>NO</td>\n",
       "      <td>College Degree</td>\n",
       "      <td>NO</td>\n",
       "      <td>YES</td>\n",
       "      <td>NaN</td>\n",
       "      <td>Heterosexual</td>\n",
       "      <td>NO</td>\n",
       "      <td>NEGATIVE</td>\n",
       "    </tr>\n",
       "    <tr>\n",
       "      <th>2</th>\n",
       "      <td>23</td>\n",
       "      <td>Married</td>\n",
       "      <td>YES</td>\n",
       "      <td>College Degree</td>\n",
       "      <td>NO</td>\n",
       "      <td>YES</td>\n",
       "      <td>NaN</td>\n",
       "      <td>Bisexual</td>\n",
       "      <td>NO</td>\n",
       "      <td>NEGATIVE</td>\n",
       "    </tr>\n",
       "    <tr>\n",
       "      <th>3</th>\n",
       "      <td>24</td>\n",
       "      <td>Married</td>\n",
       "      <td>NO</td>\n",
       "      <td>College Degree</td>\n",
       "      <td>YES</td>\n",
       "      <td>YES</td>\n",
       "      <td>Park</td>\n",
       "      <td>Heterosexual</td>\n",
       "      <td>YES</td>\n",
       "      <td>POSITIVE</td>\n",
       "    </tr>\n",
       "    <tr>\n",
       "      <th>4</th>\n",
       "      <td>18</td>\n",
       "      <td>UNMARRIED</td>\n",
       "      <td>YES</td>\n",
       "      <td>Senior High School</td>\n",
       "      <td>YES</td>\n",
       "      <td>NO</td>\n",
       "      <td>Internet</td>\n",
       "      <td>Heterosexual</td>\n",
       "      <td>YES</td>\n",
       "      <td>POSITIVE</td>\n",
       "    </tr>\n",
       "    <tr>\n",
       "      <th>...</th>\n",
       "      <td>...</td>\n",
       "      <td>...</td>\n",
       "      <td>...</td>\n",
       "      <td>...</td>\n",
       "      <td>...</td>\n",
       "      <td>...</td>\n",
       "      <td>...</td>\n",
       "      <td>...</td>\n",
       "      <td>...</td>\n",
       "      <td>...</td>\n",
       "    </tr>\n",
       "    <tr>\n",
       "      <th>693</th>\n",
       "      <td>19</td>\n",
       "      <td>UNMARRIED</td>\n",
       "      <td>YES</td>\n",
       "      <td>Illiteracy</td>\n",
       "      <td>NO</td>\n",
       "      <td>NO</td>\n",
       "      <td>Internet</td>\n",
       "      <td>Heterosexual</td>\n",
       "      <td>NO</td>\n",
       "      <td>POSITIVE</td>\n",
       "    </tr>\n",
       "    <tr>\n",
       "      <th>694</th>\n",
       "      <td>47</td>\n",
       "      <td>MARRIED</td>\n",
       "      <td>NO</td>\n",
       "      <td>College Degree</td>\n",
       "      <td>NO</td>\n",
       "      <td>YES</td>\n",
       "      <td>Bar</td>\n",
       "      <td>Bisexual</td>\n",
       "      <td>NO</td>\n",
       "      <td>NEGATIVE</td>\n",
       "    </tr>\n",
       "    <tr>\n",
       "      <th>695</th>\n",
       "      <td>34</td>\n",
       "      <td>UNMARRIED</td>\n",
       "      <td>YES</td>\n",
       "      <td>Senior High School</td>\n",
       "      <td>YES</td>\n",
       "      <td>YES</td>\n",
       "      <td>Park</td>\n",
       "      <td>Homosexual</td>\n",
       "      <td>YES</td>\n",
       "      <td>NEGATIVE</td>\n",
       "    </tr>\n",
       "    <tr>\n",
       "      <th>696</th>\n",
       "      <td>25</td>\n",
       "      <td>MARRIED</td>\n",
       "      <td>NO</td>\n",
       "      <td>Junior High School</td>\n",
       "      <td>NO</td>\n",
       "      <td>NO</td>\n",
       "      <td>Public Bath</td>\n",
       "      <td>Heterosexual</td>\n",
       "      <td>YES</td>\n",
       "      <td>POSITIVE</td>\n",
       "    </tr>\n",
       "    <tr>\n",
       "      <th>697</th>\n",
       "      <td>46</td>\n",
       "      <td>Cohabiting</td>\n",
       "      <td>YES</td>\n",
       "      <td>Senior High School</td>\n",
       "      <td>YES</td>\n",
       "      <td>NO</td>\n",
       "      <td>Internet</td>\n",
       "      <td>Homosexual</td>\n",
       "      <td>NO</td>\n",
       "      <td>POSITIVE</td>\n",
       "    </tr>\n",
       "  </tbody>\n",
       "</table>\n",
       "<p>698 rows × 10 columns</p>\n",
       "</div>"
      ],
      "text/plain": [
       "     Age Marital Staus  STD Educational Background HIV TEST IN PAST YEAR  \\\n",
       "0     22     UNMARRIED   NO         College Degree                   YES   \n",
       "1     20     UNMARRIED   NO         College Degree                    NO   \n",
       "2     23       Married  YES         College Degree                    NO   \n",
       "3     24       Married   NO         College Degree                   YES   \n",
       "4     18     UNMARRIED  YES     Senior High School                   YES   \n",
       "..   ...           ...  ...                    ...                   ...   \n",
       "693   19     UNMARRIED  YES             Illiteracy                    NO   \n",
       "694   47       MARRIED   NO         College Degree                    NO   \n",
       "695   34     UNMARRIED  YES     Senior High School                   YES   \n",
       "696   25       MARRIED   NO     Junior High School                    NO   \n",
       "697   46    Cohabiting  YES     Senior High School                   YES   \n",
       "\n",
       "    AIDS education Places of seeking sex partners SEXUAL ORIENTATION  \\\n",
       "0               NO                            Bar       Heterosexual   \n",
       "1              YES                            NaN       Heterosexual   \n",
       "2              YES                            NaN           Bisexual   \n",
       "3              YES                           Park       Heterosexual   \n",
       "4               NO                       Internet       Heterosexual   \n",
       "..             ...                            ...                ...   \n",
       "693             NO                       Internet       Heterosexual   \n",
       "694            YES                            Bar           Bisexual   \n",
       "695            YES                           Park         Homosexual   \n",
       "696             NO                    Public Bath       Heterosexual   \n",
       "697             NO                       Internet         Homosexual   \n",
       "\n",
       "    Drug- taking    Result  \n",
       "0            YES  POSITIVE  \n",
       "1             NO  NEGATIVE  \n",
       "2             NO  NEGATIVE  \n",
       "3            YES  POSITIVE  \n",
       "4            YES  POSITIVE  \n",
       "..           ...       ...  \n",
       "693           NO  POSITIVE  \n",
       "694           NO  NEGATIVE  \n",
       "695          YES  NEGATIVE  \n",
       "696          YES  POSITIVE  \n",
       "697           NO  POSITIVE  \n",
       "\n",
       "[698 rows x 10 columns]"
      ]
     },
     "execution_count": 1,
     "metadata": {},
     "output_type": "execute_result"
    }
   ],
   "source": [
    "import pandas as pd\n",
    "\n",
    "df_hiv = pd.read_csv('datasets/HIV_dataset.csv')\n",
    "df = pd.read_excel('datasets/QualityOfCare.xlsx')\n",
    "df_hiv.shape\n",
    "df_hiv"
   ]
  },
  {
   "cell_type": "code",
   "execution_count": 3,
   "id": "c2b15ff7-5f76-41cc-9b1a-4842381f0570",
   "metadata": {},
   "outputs": [
    {
     "name": "stdout",
     "output_type": "stream",
     "text": [
      "(698, 10)\n",
      "(27288, 46)\n"
     ]
    }
   ],
   "source": [
    "\n",
    "print(df_hiv.shape)\n",
    "print(df.shape)"
   ]
  },
  {
   "cell_type": "code",
   "execution_count": 4,
   "id": "d2c6c97d-7ad4-4906-85fc-cf823b56e3b2",
   "metadata": {},
   "outputs": [
    {
     "name": "stdout",
     "output_type": "stream",
     "text": [
      "The First Dataset Statistics\n",
      "              Age\n",
      "count  698.000000\n",
      "mean    40.022923\n",
      "std     18.154906\n",
      "min     12.000000\n",
      "25%     25.000000\n",
      "50%     38.000000\n",
      "75%     54.000000\n",
      "max     80.000000\n",
      "\n",
      "The second Dataset Statistics\n",
      "                Age  AgeInMonths  WeightAtStart  HeightAtStart     Cd4AtStart  \\\n",
      "count  2.656900e+04   642.000000   25065.000000   15357.000000   21906.000000   \n",
      "mean   1.095590e+02    14.890966      54.920870     142.788071     451.511158   \n",
      "std    1.215949e+04    80.235363      17.123884      51.772227    6625.037637   \n",
      "min    0.000000e+00     0.000000       0.000000       0.000000       0.000000   \n",
      "25%    2.700000e+01     0.000000      47.000000     150.000000     139.000000   \n",
      "50%    3.400000e+01     2.000000      55.000000     160.000000     267.000000   \n",
      "75%    4.200000e+01    18.000000      65.000000     166.000000     434.000000   \n",
      "max    1.982014e+06  1987.000000     100.000000     980.000000  662645.000000   \n",
      "\n",
      "       WeightAtLastVisit  HeightAtLastVisit  MostRecentCd4Count  \n",
      "count       24444.000000       15231.000000        20106.000000  \n",
      "mean           60.014575         144.670872          654.213839  \n",
      "std            30.309822         335.184395         7467.950481  \n",
      "min             0.000000           0.000000            0.000000  \n",
      "25%            50.000000         150.000000          229.000000  \n",
      "50%            60.000000         160.000000          396.000000  \n",
      "75%            69.000000         166.000000          600.000000  \n",
      "max          1248.000000       40914.000000       578566.000000  \n"
     ]
    }
   ],
   "source": [
    "print('The First Dataset Statistics')\n",
    "print(df_hiv.describe())\n",
    "\n",
    "print('\\nThe second Dataset Statistics')\n",
    "print(df.describe())"
   ]
  },
  {
   "cell_type": "code",
   "execution_count": 9,
   "id": "1255576b-2081-4590-be1a-e9357c826e54",
   "metadata": {},
   "outputs": [
    {
     "data": {
      "text/html": [
       "<div>\n",
       "<style scoped>\n",
       "    .dataframe tbody tr th:only-of-type {\n",
       "        vertical-align: middle;\n",
       "    }\n",
       "\n",
       "    .dataframe tbody tr th {\n",
       "        vertical-align: top;\n",
       "    }\n",
       "\n",
       "    .dataframe thead th {\n",
       "        text-align: right;\n",
       "    }\n",
       "</style>\n",
       "<table border=\"1\" class=\"dataframe\">\n",
       "  <thead>\n",
       "    <tr style=\"text-align: right;\">\n",
       "      <th></th>\n",
       "      <th>Age</th>\n",
       "      <th>AIDS education</th>\n",
       "      <th>Result</th>\n",
       "    </tr>\n",
       "  </thead>\n",
       "  <tbody>\n",
       "    <tr>\n",
       "      <th>0</th>\n",
       "      <td>22</td>\n",
       "      <td>NO</td>\n",
       "      <td>POSITIVE</td>\n",
       "    </tr>\n",
       "    <tr>\n",
       "      <th>1</th>\n",
       "      <td>20</td>\n",
       "      <td>YES</td>\n",
       "      <td>NEGATIVE</td>\n",
       "    </tr>\n",
       "    <tr>\n",
       "      <th>2</th>\n",
       "      <td>23</td>\n",
       "      <td>YES</td>\n",
       "      <td>NEGATIVE</td>\n",
       "    </tr>\n",
       "    <tr>\n",
       "      <th>3</th>\n",
       "      <td>24</td>\n",
       "      <td>YES</td>\n",
       "      <td>POSITIVE</td>\n",
       "    </tr>\n",
       "    <tr>\n",
       "      <th>4</th>\n",
       "      <td>18</td>\n",
       "      <td>NO</td>\n",
       "      <td>POSITIVE</td>\n",
       "    </tr>\n",
       "    <tr>\n",
       "      <th>...</th>\n",
       "      <td>...</td>\n",
       "      <td>...</td>\n",
       "      <td>...</td>\n",
       "    </tr>\n",
       "    <tr>\n",
       "      <th>693</th>\n",
       "      <td>19</td>\n",
       "      <td>NO</td>\n",
       "      <td>POSITIVE</td>\n",
       "    </tr>\n",
       "    <tr>\n",
       "      <th>694</th>\n",
       "      <td>47</td>\n",
       "      <td>YES</td>\n",
       "      <td>NEGATIVE</td>\n",
       "    </tr>\n",
       "    <tr>\n",
       "      <th>695</th>\n",
       "      <td>34</td>\n",
       "      <td>YES</td>\n",
       "      <td>NEGATIVE</td>\n",
       "    </tr>\n",
       "    <tr>\n",
       "      <th>696</th>\n",
       "      <td>25</td>\n",
       "      <td>NO</td>\n",
       "      <td>POSITIVE</td>\n",
       "    </tr>\n",
       "    <tr>\n",
       "      <th>697</th>\n",
       "      <td>46</td>\n",
       "      <td>NO</td>\n",
       "      <td>POSITIVE</td>\n",
       "    </tr>\n",
       "  </tbody>\n",
       "</table>\n",
       "<p>698 rows × 3 columns</p>\n",
       "</div>"
      ],
      "text/plain": [
       "     Age AIDS education    Result\n",
       "0     22             NO  POSITIVE\n",
       "1     20            YES  NEGATIVE\n",
       "2     23            YES  NEGATIVE\n",
       "3     24            YES  POSITIVE\n",
       "4     18             NO  POSITIVE\n",
       "..   ...            ...       ...\n",
       "693   19             NO  POSITIVE\n",
       "694   47            YES  NEGATIVE\n",
       "695   34            YES  NEGATIVE\n",
       "696   25             NO  POSITIVE\n",
       "697   46             NO  POSITIVE\n",
       "\n",
       "[698 rows x 3 columns]"
      ]
     },
     "execution_count": 9,
     "metadata": {},
     "output_type": "execute_result"
    }
   ],
   "source": [
    "df_hiv_new =df_hiv[['Age','AIDS education','Result']]\n",
    "df_hiv_new"
   ]
  },
  {
   "cell_type": "code",
   "execution_count": 10,
   "id": "f8d330d1-bf01-46a0-b9c5-51a3d6907c8d",
   "metadata": {},
   "outputs": [
    {
     "name": "stdout",
     "output_type": "stream",
     "text": [
      "Before Duplicates  (698, 3)\n",
      "After Duplicates (180, 3)\n",
      "Before missing  (180, 3)\n",
      "After  (180, 3)\n",
      "<class 'pandas.core.frame.DataFrame'>\n",
      "Index: 180 entries, 0 to 354\n",
      "Data columns (total 3 columns):\n",
      " #   Column          Non-Null Count  Dtype \n",
      "---  ------          --------------  ----- \n",
      " 0   Age             180 non-null    int64 \n",
      " 1   AIDS education  180 non-null    object\n",
      " 2   Result          180 non-null    object\n",
      "dtypes: int64(1), object(2)\n",
      "memory usage: 5.6+ KB\n"
     ]
    }
   ],
   "source": [
    "#Duplicates\n",
    "print('Before Duplicates ',df_hiv_new.shape)\n",
    "df_duplicates = df_hiv_new.drop_duplicates()\n",
    "print('After Duplicates',df_duplicates.shape)\n",
    "#Mising values\n",
    "print('Before missing ',df_duplicates.shape)\n",
    "df_miss = df_duplicates.dropna()\n",
    "print('After ',df_miss.shape)\n",
    "\n",
    "df_1 = df_miss\n",
    "df_1.info()\n",
    "\n"
   ]
  },
  {
   "cell_type": "code",
   "execution_count": 12,
   "id": "3443b015-d96b-4774-876b-14cc0a8dd7c9",
   "metadata": {},
   "outputs": [
    {
     "data": {
      "text/html": [
       "<div>\n",
       "<style scoped>\n",
       "    .dataframe tbody tr th:only-of-type {\n",
       "        vertical-align: middle;\n",
       "    }\n",
       "\n",
       "    .dataframe tbody tr th {\n",
       "        vertical-align: top;\n",
       "    }\n",
       "\n",
       "    .dataframe thead th {\n",
       "        text-align: right;\n",
       "    }\n",
       "</style>\n",
       "<table border=\"1\" class=\"dataframe\">\n",
       "  <thead>\n",
       "    <tr style=\"text-align: right;\">\n",
       "      <th></th>\n",
       "      <th>Age</th>\n",
       "      <th>Sex</th>\n",
       "      <th>MaritalStatus</th>\n",
       "      <th>Occupation</th>\n",
       "      <th>DateOfConfirmedHIV</th>\n",
       "      <th>DateOfEnrollment</th>\n",
       "      <th>Cd4AtStart</th>\n",
       "      <th>WeightAtStart</th>\n",
       "      <th>WeightAtLastVisit</th>\n",
       "      <th>ArvAdherenceLatestLevel</th>\n",
       "      <th>ViralLoad</th>\n",
       "    </tr>\n",
       "  </thead>\n",
       "  <tbody>\n",
       "    <tr>\n",
       "      <th>2279</th>\n",
       "      <td>50.0</td>\n",
       "      <td>Male</td>\n",
       "      <td>Married</td>\n",
       "      <td>Unemployed</td>\n",
       "      <td>15/9/2015</td>\n",
       "      <td>15/9/2015</td>\n",
       "      <td>290.0</td>\n",
       "      <td>60.0</td>\n",
       "      <td>65.0</td>\n",
       "      <td>Good</td>\n",
       "      <td>72 Cp/ml</td>\n",
       "    </tr>\n",
       "    <tr>\n",
       "      <th>2085</th>\n",
       "      <td>27.0</td>\n",
       "      <td>Male</td>\n",
       "      <td>Single</td>\n",
       "      <td>Unemployed</td>\n",
       "      <td>21/3/2016</td>\n",
       "      <td>21/3/2016</td>\n",
       "      <td>216.0</td>\n",
       "      <td>46.0</td>\n",
       "      <td>50.0</td>\n",
       "      <td>Good</td>\n",
       "      <td>1911</td>\n",
       "    </tr>\n",
       "    <tr>\n",
       "      <th>6669</th>\n",
       "      <td>37.0</td>\n",
       "      <td>Female</td>\n",
       "      <td>Married</td>\n",
       "      <td>Business person</td>\n",
       "      <td>20/9/2017</td>\n",
       "      <td>20/9/2017</td>\n",
       "      <td>259.0</td>\n",
       "      <td>50.0</td>\n",
       "      <td>50.0</td>\n",
       "      <td>Fair</td>\n",
       "      <td>36</td>\n",
       "    </tr>\n",
       "    <tr>\n",
       "      <th>18640</th>\n",
       "      <td>30.0</td>\n",
       "      <td>Female</td>\n",
       "      <td>Single</td>\n",
       "      <td>Unemployed</td>\n",
       "      <td>20/8/2014</td>\n",
       "      <td>20/8/2014</td>\n",
       "      <td>230.0</td>\n",
       "      <td>51.0</td>\n",
       "      <td>40.0</td>\n",
       "      <td>Poor</td>\n",
       "      <td>NaN</td>\n",
       "    </tr>\n",
       "    <tr>\n",
       "      <th>6127</th>\n",
       "      <td>NaN</td>\n",
       "      <td>Male</td>\n",
       "      <td>NaN</td>\n",
       "      <td>NaN</td>\n",
       "      <td>NaN</td>\n",
       "      <td>NaN</td>\n",
       "      <td>NaN</td>\n",
       "      <td>NaN</td>\n",
       "      <td>NaN</td>\n",
       "      <td>NaN</td>\n",
       "      <td>NaN</td>\n",
       "    </tr>\n",
       "    <tr>\n",
       "      <th>2871</th>\n",
       "      <td>30.0</td>\n",
       "      <td>Female</td>\n",
       "      <td>Widowed</td>\n",
       "      <td>Unemployed</td>\n",
       "      <td>23/10/2013</td>\n",
       "      <td>2013-05-11 00:00:00</td>\n",
       "      <td>350.0</td>\n",
       "      <td>48.0</td>\n",
       "      <td>48.0</td>\n",
       "      <td>Good</td>\n",
       "      <td>82</td>\n",
       "    </tr>\n",
       "    <tr>\n",
       "      <th>27009</th>\n",
       "      <td>32.0</td>\n",
       "      <td>Male</td>\n",
       "      <td>Married</td>\n",
       "      <td>Unemployed</td>\n",
       "      <td>23/09/14</td>\n",
       "      <td>23/09/14</td>\n",
       "      <td>179.0</td>\n",
       "      <td>62.0</td>\n",
       "      <td>64.0</td>\n",
       "      <td>Good</td>\n",
       "      <td>NaN</td>\n",
       "    </tr>\n",
       "    <tr>\n",
       "      <th>25247</th>\n",
       "      <td>25.0</td>\n",
       "      <td>Male</td>\n",
       "      <td>Married</td>\n",
       "      <td>Self employed</td>\n",
       "      <td>14/5/2013</td>\n",
       "      <td>28/3/2013</td>\n",
       "      <td>250.0</td>\n",
       "      <td>56.0</td>\n",
       "      <td>57.0</td>\n",
       "      <td>Good</td>\n",
       "      <td>&lt;20</td>\n",
       "    </tr>\n",
       "    <tr>\n",
       "      <th>2051</th>\n",
       "      <td>31.0</td>\n",
       "      <td>Female</td>\n",
       "      <td>Single</td>\n",
       "      <td>Self employed</td>\n",
       "      <td>2017-07-07 00:00:00</td>\n",
       "      <td>14/7/2017</td>\n",
       "      <td>456.0</td>\n",
       "      <td>71.0</td>\n",
       "      <td>69.0</td>\n",
       "      <td>Good</td>\n",
       "      <td>0</td>\n",
       "    </tr>\n",
       "    <tr>\n",
       "      <th>21688</th>\n",
       "      <td>35.0</td>\n",
       "      <td>Female</td>\n",
       "      <td>Missing</td>\n",
       "      <td>NaN</td>\n",
       "      <td>14/12/2017</td>\n",
       "      <td>14/12/2017</td>\n",
       "      <td>NaN</td>\n",
       "      <td>50.0</td>\n",
       "      <td>61.0</td>\n",
       "      <td>Good</td>\n",
       "      <td>NaN</td>\n",
       "    </tr>\n",
       "  </tbody>\n",
       "</table>\n",
       "</div>"
      ],
      "text/plain": [
       "        Age     Sex MaritalStatus       Occupation   DateOfConfirmedHIV  \\\n",
       "2279   50.0    Male       Married       Unemployed            15/9/2015   \n",
       "2085   27.0    Male        Single       Unemployed            21/3/2016   \n",
       "6669   37.0  Female       Married  Business person            20/9/2017   \n",
       "18640  30.0  Female        Single       Unemployed            20/8/2014   \n",
       "6127    NaN    Male           NaN              NaN                  NaN   \n",
       "2871   30.0  Female       Widowed       Unemployed           23/10/2013   \n",
       "27009  32.0    Male       Married       Unemployed             23/09/14   \n",
       "25247  25.0    Male       Married    Self employed            14/5/2013   \n",
       "2051   31.0  Female        Single    Self employed  2017-07-07 00:00:00   \n",
       "21688  35.0  Female       Missing              NaN           14/12/2017   \n",
       "\n",
       "          DateOfEnrollment  Cd4AtStart  WeightAtStart  WeightAtLastVisit  \\\n",
       "2279             15/9/2015       290.0           60.0               65.0   \n",
       "2085             21/3/2016       216.0           46.0               50.0   \n",
       "6669             20/9/2017       259.0           50.0               50.0   \n",
       "18640            20/8/2014       230.0           51.0               40.0   \n",
       "6127                   NaN         NaN            NaN                NaN   \n",
       "2871   2013-05-11 00:00:00       350.0           48.0               48.0   \n",
       "27009             23/09/14       179.0           62.0               64.0   \n",
       "25247            28/3/2013       250.0           56.0               57.0   \n",
       "2051             14/7/2017       456.0           71.0               69.0   \n",
       "21688           14/12/2017         NaN           50.0               61.0   \n",
       "\n",
       "      ArvAdherenceLatestLevel ViralLoad  \n",
       "2279                     Good  72 Cp/ml  \n",
       "2085                     Good      1911  \n",
       "6669                     Fair        36  \n",
       "18640                    Poor       NaN  \n",
       "6127                      NaN       NaN  \n",
       "2871                     Good        82  \n",
       "27009                    Good       NaN  \n",
       "25247                    Good       <20  \n",
       "2051                     Good         0  \n",
       "21688                    Good       NaN  "
      ]
     },
     "execution_count": 12,
     "metadata": {},
     "output_type": "execute_result"
    }
   ],
   "source": [
    "\n",
    "df_with_needed_columns= df[['Age','Sex','MaritalStatus','Occupation','DateOfConfirmedHIV','DateOfEnrollment','Cd4AtStart','WeightAtStart','WeightAtLastVisit','ArvAdherenceLatestLevel','ViralLoad']]\n",
    "df_with_needed_columns.sample(10)\n"
   ]
  },
  {
   "cell_type": "code",
   "execution_count": 13,
   "id": "df5a07d8-a1ea-44eb-a64c-29813fda2ad8",
   "metadata": {},
   "outputs": [
    {
     "name": "stdout",
     "output_type": "stream",
     "text": [
      "<class 'pandas.core.frame.DataFrame'>\n",
      "RangeIndex: 27288 entries, 0 to 27287\n",
      "Data columns (total 11 columns):\n",
      " #   Column                   Non-Null Count  Dtype  \n",
      "---  ------                   --------------  -----  \n",
      " 0   Age                      26569 non-null  float64\n",
      " 1   Sex                      27288 non-null  object \n",
      " 2   MaritalStatus            25547 non-null  object \n",
      " 3   Occupation               24610 non-null  object \n",
      " 4   DateOfConfirmedHIV       26574 non-null  object \n",
      " 5   DateOfEnrollment         26696 non-null  object \n",
      " 6   Cd4AtStart               21906 non-null  float64\n",
      " 7   WeightAtStart            25065 non-null  float64\n",
      " 8   WeightAtLastVisit        24444 non-null  float64\n",
      " 9   ArvAdherenceLatestLevel  25991 non-null  object \n",
      " 10  ViralLoad                13763 non-null  object \n",
      "dtypes: float64(4), object(7)\n",
      "memory usage: 2.3+ MB\n"
     ]
    }
   ],
   "source": [
    "df_with_needed_columns.info()"
   ]
  },
  {
   "cell_type": "code",
   "execution_count": 14,
   "id": "0a16d1cf-d345-4304-806b-890f30d33f77",
   "metadata": {},
   "outputs": [
    {
     "name": "stdout",
     "output_type": "stream",
     "text": [
      "Before Duplicates  (27288, 11)\n",
      "After Duplicates (27172, 11)\n",
      "Before missing  (27172, 11)\n",
      "After  (9441, 11)\n"
     ]
    }
   ],
   "source": [
    "print('Before Duplicates ',df_with_needed_columns.shape)\n",
    "df_duplicate = df_with_needed_columns.drop_duplicates()\n",
    "print('After Duplicates',df_duplicate.shape)\n",
    "#Mising values\n",
    "print('Before missing ',df_duplicate.shape)\n",
    "df_2 = df_duplicate.dropna()\n",
    "print('After ',df_2.shape)\n",
    "\n"
   ]
  },
  {
   "cell_type": "code",
   "execution_count": 15,
   "id": "60e1bab1-08de-4719-b657-d4e1e167e473",
   "metadata": {},
   "outputs": [
    {
     "name": "stderr",
     "output_type": "stream",
     "text": [
      "/tmp/ipykernel_12640/1536513092.py:1: SettingWithCopyWarning: \n",
      "A value is trying to be set on a copy of a slice from a DataFrame.\n",
      "Try using .loc[row_indexer,col_indexer] = value instead\n",
      "\n",
      "See the caveats in the documentation: https://pandas.pydata.org/pandas-docs/stable/user_guide/indexing.html#returning-a-view-versus-a-copy\n",
      "  df_2['Age'] = df_2['Age'].astype(int)\n"
     ]
    },
    {
     "data": {
      "text/plain": [
       "2        50\n",
       "3        51\n",
       "7        40\n",
       "9         6\n",
       "10       48\n",
       "         ..\n",
       "27275    24\n",
       "27279    33\n",
       "27280    35\n",
       "27283    32\n",
       "27287    40\n",
       "Name: Age, Length: 9441, dtype: int64"
      ]
     },
     "execution_count": 15,
     "metadata": {},
     "output_type": "execute_result"
    }
   ],
   "source": [
    "df_2['Age'] = df_2['Age'].astype(int)\n",
    "df_2.Age"
   ]
  },
  {
   "cell_type": "code",
   "execution_count": 16,
   "id": "61029374-4e8b-4c6f-9654-ad395394f088",
   "metadata": {},
   "outputs": [
    {
     "data": {
      "text/plain": [
       "(180, 3)"
      ]
     },
     "execution_count": 16,
     "metadata": {},
     "output_type": "execute_result"
    }
   ],
   "source": [
    "df_1.shape"
   ]
  },
  {
   "cell_type": "code",
   "execution_count": 17,
   "id": "b9ae0ba0-d72f-41b4-8abf-1c957e034899",
   "metadata": {},
   "outputs": [
    {
     "name": "stdout",
     "output_type": "stream",
     "text": [
      "<class 'pandas.core.frame.DataFrame'>\n",
      "RangeIndex: 28837 entries, 0 to 28836\n",
      "Data columns (total 13 columns):\n",
      " #   Column                   Non-Null Count  Dtype         \n",
      "---  ------                   --------------  -----         \n",
      " 0   Age                      28837 non-null  int64         \n",
      " 1   Sex                      28837 non-null  object        \n",
      " 2   MaritalStatus            28837 non-null  object        \n",
      " 3   Occupation               28837 non-null  object        \n",
      " 4   DateOfConfirmedHIV       28789 non-null  datetime64[ns]\n",
      " 5   DateOfEnrollment         28796 non-null  datetime64[ns]\n",
      " 6   Cd4AtStart               28837 non-null  float64       \n",
      " 7   WeightAtStart            28837 non-null  float64       \n",
      " 8   WeightAtLastVisit        28837 non-null  float64       \n",
      " 9   ArvAdherenceLatestLevel  28837 non-null  object        \n",
      " 10  ViralLoad                28837 non-null  object        \n",
      " 11  AIDS education           28340 non-null  object        \n",
      " 12  Result                   28340 non-null  object        \n",
      "dtypes: datetime64[ns](2), float64(3), int64(1), object(7)\n",
      "memory usage: 2.9+ MB\n"
     ]
    }
   ],
   "source": [
    "df_merge = df_2.merge(df_1, on='Age', how='left')\n",
    "df_merge['DateOfConfirmedHIV'] = pd.to_datetime(df_merge['DateOfConfirmedHIV'],format='%d/%m/%Y',errors='coerce')\n",
    "df_merge['DateOfEnrollment'] = pd.to_datetime(df_merge['DateOfEnrollment'],format='%d/%m/%Y',errors='coerce')\n",
    "df_merge.info()"
   ]
  },
  {
   "cell_type": "code",
   "execution_count": 18,
   "id": "e203a0ee-b882-4450-a54e-6bb6049da43a",
   "metadata": {},
   "outputs": [
    {
     "name": "stdout",
     "output_type": "stream",
     "text": [
      "Before Duplicates  (28837, 13)\n",
      "After Duplicates (28837, 13)\n",
      "Before missing  (28837, 13)\n",
      "After  (28286, 13)\n"
     ]
    }
   ],
   "source": [
    "print('Before Duplicates ',df_merge.shape)\n",
    "df_duplicate = df_merge.drop_duplicates()\n",
    "print('After Duplicates',df_duplicate.shape)\n",
    "#Mising values\n",
    "print('Before missing ',df_duplicate.shape)\n",
    "df_3 = df_duplicate.dropna()\n",
    "print('After ',df_3.shape)\n"
   ]
  },
  {
   "cell_type": "code",
   "execution_count": 19,
   "id": "5b860273-b563-4985-adc1-0defc38d2d4d",
   "metadata": {},
   "outputs": [
    {
     "data": {
      "text/html": [
       "<div>\n",
       "<style scoped>\n",
       "    .dataframe tbody tr th:only-of-type {\n",
       "        vertical-align: middle;\n",
       "    }\n",
       "\n",
       "    .dataframe tbody tr th {\n",
       "        vertical-align: top;\n",
       "    }\n",
       "\n",
       "    .dataframe thead th {\n",
       "        text-align: right;\n",
       "    }\n",
       "</style>\n",
       "<table border=\"1\" class=\"dataframe\">\n",
       "  <thead>\n",
       "    <tr style=\"text-align: right;\">\n",
       "      <th></th>\n",
       "      <th>Age</th>\n",
       "      <th>Sex</th>\n",
       "      <th>MaritalStatus</th>\n",
       "      <th>Occupation</th>\n",
       "      <th>DateOfConfirmedHIV</th>\n",
       "      <th>DateOfEnrollment</th>\n",
       "      <th>Cd4AtStart</th>\n",
       "      <th>WeightAtStart</th>\n",
       "      <th>WeightAtLastVisit</th>\n",
       "      <th>ArvAdherenceLatestLevel</th>\n",
       "      <th>ViralLoad</th>\n",
       "      <th>AIDS education</th>\n",
       "      <th>Result</th>\n",
       "    </tr>\n",
       "  </thead>\n",
       "  <tbody>\n",
       "    <tr>\n",
       "      <th>28827</th>\n",
       "      <td>33</td>\n",
       "      <td>Female</td>\n",
       "      <td>Married</td>\n",
       "      <td>Business person</td>\n",
       "      <td>2018-09-30</td>\n",
       "      <td>2018-09-30</td>\n",
       "      <td>376.0</td>\n",
       "      <td>59.0</td>\n",
       "      <td>58.0</td>\n",
       "      <td>Good</td>\n",
       "      <td>20</td>\n",
       "      <td>NO</td>\n",
       "      <td>NEGATIVE</td>\n",
       "    </tr>\n",
       "    <tr>\n",
       "      <th>28828</th>\n",
       "      <td>35</td>\n",
       "      <td>Female</td>\n",
       "      <td>Married</td>\n",
       "      <td>Unemployed</td>\n",
       "      <td>2016-08-02</td>\n",
       "      <td>2016-02-15</td>\n",
       "      <td>67.0</td>\n",
       "      <td>48.0</td>\n",
       "      <td>55.0</td>\n",
       "      <td>Good</td>\n",
       "      <td>74</td>\n",
       "      <td>NO</td>\n",
       "      <td>POSITIVE</td>\n",
       "    </tr>\n",
       "    <tr>\n",
       "      <th>28829</th>\n",
       "      <td>35</td>\n",
       "      <td>Female</td>\n",
       "      <td>Married</td>\n",
       "      <td>Unemployed</td>\n",
       "      <td>2016-08-02</td>\n",
       "      <td>2016-02-15</td>\n",
       "      <td>67.0</td>\n",
       "      <td>48.0</td>\n",
       "      <td>55.0</td>\n",
       "      <td>Good</td>\n",
       "      <td>74</td>\n",
       "      <td>YES</td>\n",
       "      <td>NEGATIVE</td>\n",
       "    </tr>\n",
       "    <tr>\n",
       "      <th>28830</th>\n",
       "      <td>35</td>\n",
       "      <td>Female</td>\n",
       "      <td>Married</td>\n",
       "      <td>Unemployed</td>\n",
       "      <td>2016-08-02</td>\n",
       "      <td>2016-02-15</td>\n",
       "      <td>67.0</td>\n",
       "      <td>48.0</td>\n",
       "      <td>55.0</td>\n",
       "      <td>Good</td>\n",
       "      <td>74</td>\n",
       "      <td>NO</td>\n",
       "      <td>NEGATIVE</td>\n",
       "    </tr>\n",
       "    <tr>\n",
       "      <th>28831</th>\n",
       "      <td>32</td>\n",
       "      <td>Male</td>\n",
       "      <td>Married</td>\n",
       "      <td>Civil servant</td>\n",
       "      <td>2015-01-08</td>\n",
       "      <td>2015-08-01</td>\n",
       "      <td>35.0</td>\n",
       "      <td>56.0</td>\n",
       "      <td>67.0</td>\n",
       "      <td>Good</td>\n",
       "      <td>20</td>\n",
       "      <td>NO</td>\n",
       "      <td>NEGATIVE</td>\n",
       "    </tr>\n",
       "    <tr>\n",
       "      <th>28832</th>\n",
       "      <td>32</td>\n",
       "      <td>Male</td>\n",
       "      <td>Married</td>\n",
       "      <td>Civil servant</td>\n",
       "      <td>2015-01-08</td>\n",
       "      <td>2015-08-01</td>\n",
       "      <td>35.0</td>\n",
       "      <td>56.0</td>\n",
       "      <td>67.0</td>\n",
       "      <td>Good</td>\n",
       "      <td>20</td>\n",
       "      <td>YES</td>\n",
       "      <td>POSITIVE</td>\n",
       "    </tr>\n",
       "    <tr>\n",
       "      <th>28833</th>\n",
       "      <td>40</td>\n",
       "      <td>Male</td>\n",
       "      <td>Widowed</td>\n",
       "      <td>Unemployed</td>\n",
       "      <td>2013-11-27</td>\n",
       "      <td>2013-06-12</td>\n",
       "      <td>48.0</td>\n",
       "      <td>57.0</td>\n",
       "      <td>65.0</td>\n",
       "      <td>Good</td>\n",
       "      <td>&lt;20 cp/ml</td>\n",
       "      <td>YES</td>\n",
       "      <td>NEGATIVE</td>\n",
       "    </tr>\n",
       "    <tr>\n",
       "      <th>28834</th>\n",
       "      <td>40</td>\n",
       "      <td>Male</td>\n",
       "      <td>Widowed</td>\n",
       "      <td>Unemployed</td>\n",
       "      <td>2013-11-27</td>\n",
       "      <td>2013-06-12</td>\n",
       "      <td>48.0</td>\n",
       "      <td>57.0</td>\n",
       "      <td>65.0</td>\n",
       "      <td>Good</td>\n",
       "      <td>&lt;20 cp/ml</td>\n",
       "      <td>NO</td>\n",
       "      <td>POSITIVE</td>\n",
       "    </tr>\n",
       "    <tr>\n",
       "      <th>28835</th>\n",
       "      <td>40</td>\n",
       "      <td>Male</td>\n",
       "      <td>Widowed</td>\n",
       "      <td>Unemployed</td>\n",
       "      <td>2013-11-27</td>\n",
       "      <td>2013-06-12</td>\n",
       "      <td>48.0</td>\n",
       "      <td>57.0</td>\n",
       "      <td>65.0</td>\n",
       "      <td>Good</td>\n",
       "      <td>&lt;20 cp/ml</td>\n",
       "      <td>YES</td>\n",
       "      <td>POSITIVE</td>\n",
       "    </tr>\n",
       "    <tr>\n",
       "      <th>28836</th>\n",
       "      <td>40</td>\n",
       "      <td>Male</td>\n",
       "      <td>Widowed</td>\n",
       "      <td>Unemployed</td>\n",
       "      <td>2013-11-27</td>\n",
       "      <td>2013-06-12</td>\n",
       "      <td>48.0</td>\n",
       "      <td>57.0</td>\n",
       "      <td>65.0</td>\n",
       "      <td>Good</td>\n",
       "      <td>&lt;20 cp/ml</td>\n",
       "      <td>NO</td>\n",
       "      <td>NEGATIVE</td>\n",
       "    </tr>\n",
       "  </tbody>\n",
       "</table>\n",
       "</div>"
      ],
      "text/plain": [
       "       Age     Sex MaritalStatus       Occupation DateOfConfirmedHIV  \\\n",
       "28827   33  Female       Married  Business person         2018-09-30   \n",
       "28828   35  Female       Married       Unemployed         2016-08-02   \n",
       "28829   35  Female       Married       Unemployed         2016-08-02   \n",
       "28830   35  Female       Married       Unemployed         2016-08-02   \n",
       "28831   32    Male       Married    Civil servant         2015-01-08   \n",
       "28832   32    Male       Married    Civil servant         2015-01-08   \n",
       "28833   40    Male       Widowed       Unemployed         2013-11-27   \n",
       "28834   40    Male       Widowed       Unemployed         2013-11-27   \n",
       "28835   40    Male       Widowed       Unemployed         2013-11-27   \n",
       "28836   40    Male       Widowed       Unemployed         2013-11-27   \n",
       "\n",
       "      DateOfEnrollment  Cd4AtStart  WeightAtStart  WeightAtLastVisit  \\\n",
       "28827       2018-09-30       376.0           59.0               58.0   \n",
       "28828       2016-02-15        67.0           48.0               55.0   \n",
       "28829       2016-02-15        67.0           48.0               55.0   \n",
       "28830       2016-02-15        67.0           48.0               55.0   \n",
       "28831       2015-08-01        35.0           56.0               67.0   \n",
       "28832       2015-08-01        35.0           56.0               67.0   \n",
       "28833       2013-06-12        48.0           57.0               65.0   \n",
       "28834       2013-06-12        48.0           57.0               65.0   \n",
       "28835       2013-06-12        48.0           57.0               65.0   \n",
       "28836       2013-06-12        48.0           57.0               65.0   \n",
       "\n",
       "      ArvAdherenceLatestLevel  ViralLoad AIDS education    Result  \n",
       "28827                    Good         20             NO  NEGATIVE  \n",
       "28828                    Good         74             NO  POSITIVE  \n",
       "28829                    Good         74            YES  NEGATIVE  \n",
       "28830                    Good         74             NO  NEGATIVE  \n",
       "28831                    Good         20             NO  NEGATIVE  \n",
       "28832                    Good         20            YES  POSITIVE  \n",
       "28833                    Good  <20 cp/ml            YES  NEGATIVE  \n",
       "28834                    Good  <20 cp/ml             NO  POSITIVE  \n",
       "28835                    Good  <20 cp/ml            YES  POSITIVE  \n",
       "28836                    Good  <20 cp/ml             NO  NEGATIVE  "
      ]
     },
     "execution_count": 19,
     "metadata": {},
     "output_type": "execute_result"
    }
   ],
   "source": [
    "df_3.tail(10)"
   ]
  },
  {
   "cell_type": "code",
   "execution_count": 20,
   "id": "ed4c6d06-48f4-4dbb-ae14-c42612b64a5c",
   "metadata": {},
   "outputs": [
    {
     "name": "stdout",
     "output_type": "stream",
     "text": [
      "Weight change add before dropping Na (28286, 14)\n",
      "Weight change add After dropping Na (23987, 14)\n"
     ]
    },
    {
     "name": "stderr",
     "output_type": "stream",
     "text": [
      "/tmp/ipykernel_12640/1519407751.py:3: SettingWithCopyWarning: \n",
      "A value is trying to be set on a copy of a slice from a DataFrame.\n",
      "Try using .loc[row_indexer,col_indexer] = value instead\n",
      "\n",
      "See the caveats in the documentation: https://pandas.pydata.org/pandas-docs/stable/user_guide/indexing.html#returning-a-view-versus-a-copy\n",
      "  df_3['WeightChange'] = weight_change\n"
     ]
    },
    {
     "data": {
      "text/plain": [
       "(23987, 14)"
      ]
     },
     "execution_count": 20,
     "metadata": {},
     "output_type": "execute_result"
    }
   ],
   "source": [
    "weight_change =  df.WeightAtLastVisit- df_3 .WeightAtStart\n",
    "\n",
    "df_3['WeightChange'] = weight_change\n",
    "print('Weight change add before dropping Na',df_3.shape)\n",
    "df_3_drop = df_3.dropna()\n",
    "print('Weight change add After dropping Na',df_3_drop.shape)\n",
    "df_3 = df_3_drop\n",
    "df_3.shape"
   ]
  },
  {
   "cell_type": "code",
   "execution_count": 21,
   "id": "8babe9cc-1f9d-4af9-8c79-75a12d89b731",
   "metadata": {},
   "outputs": [
    {
     "name": "stdout",
     "output_type": "stream",
     "text": [
      "Before (23987, 14)\n",
      "After (23540, 14)\n"
     ]
    }
   ],
   "source": [
    "#Handling Outliers of Age\n",
    "\n",
    "lower_bound = df_merge['Age'].quantile(0.75) -df_merge['Age'].quantile(0.25)\n",
    "# print(lower_bound)\n",
    "iqr = df_merge['Age'].quantile(0.75) -df_merge['Age'].quantile(0.25)\n",
    "upper_bound = df_merge['Age'].quantile(0.75) + 1.5 * iqr\n",
    "# print(outlier_threshold )\n",
    "\n",
    "df_outlier = df_3[(df_3.Age< lower_bound)]\n",
    "#print('OUTLIER BELOW THE THRESHOLD FOR AGE')\n",
    "df_outlier\n",
    "\n",
    "df_outliers = df_3[(df_3.Age > upper_bound)]\n",
    "#print('OUTLIER ABOVE THE THRESHOLD FOR AGE')\n",
    "df_outliers\n",
    "\n",
    "df_3['Sex'] = df_3['Sex'].str.title()\n",
    "# Handling outliers \n",
    "print('Before',df_3.shape)\n",
    "df_4 = df_3[(df_3.Age <= upper_bound) & (df_3.Age >= lower_bound) ]\n",
    "\n",
    "print('After',df_4.shape)\n"
   ]
  },
  {
   "cell_type": "code",
   "execution_count": 22,
   "id": "3c4bd201-0ac3-44d8-922b-b0a397801df1",
   "metadata": {},
   "outputs": [
    {
     "data": {
      "text/plain": [
       "count    2.883700e+04\n",
       "mean     1.043203e+02\n",
       "std      1.167144e+04\n",
       "min      0.000000e+00\n",
       "25%      2.800000e+01\n",
       "50%      3.500000e+01\n",
       "75%      4.100000e+01\n",
       "max      1.982014e+06\n",
       "Name: Age, dtype: float64"
      ]
     },
     "execution_count": 22,
     "metadata": {},
     "output_type": "execute_result"
    }
   ],
   "source": [
    "df_merge.Age.describe()"
   ]
  },
  {
   "cell_type": "code",
   "execution_count": 23,
   "id": "207a3dbd-de79-44b9-ab77-db5710578cb8",
   "metadata": {},
   "outputs": [
    {
     "data": {
      "text/plain": [
       "count    23540.000000\n",
       "mean        35.399788\n",
       "std          9.377893\n",
       "min         13.000000\n",
       "25%         29.000000\n",
       "50%         35.000000\n",
       "75%         40.000000\n",
       "max         60.000000\n",
       "Name: Age, dtype: float64"
      ]
     },
     "execution_count": 23,
     "metadata": {},
     "output_type": "execute_result"
    }
   ],
   "source": [
    "df_4.Age.describe()"
   ]
  },
  {
   "cell_type": "code",
   "execution_count": 24,
   "id": "e282fa37-6563-402e-8eb7-bd14fe183a94",
   "metadata": {},
   "outputs": [
    {
     "name": "stdout",
     "output_type": "stream",
     "text": [
      "<class 'pandas.core.frame.DataFrame'>\n",
      "Index: 23540 entries, 0 to 27287\n",
      "Data columns (total 14 columns):\n",
      " #   Column                   Non-Null Count  Dtype         \n",
      "---  ------                   --------------  -----         \n",
      " 0   Age                      23540 non-null  int64         \n",
      " 1   Sex                      23540 non-null  object        \n",
      " 2   MaritalStatus            23540 non-null  object        \n",
      " 3   Occupation               23540 non-null  object        \n",
      " 4   DateOfConfirmedHIV       23540 non-null  datetime64[ns]\n",
      " 5   DateOfEnrollment         23540 non-null  datetime64[ns]\n",
      " 6   Cd4AtStart               23540 non-null  float64       \n",
      " 7   WeightAtStart            23540 non-null  float64       \n",
      " 8   WeightAtLastVisit        23540 non-null  float64       \n",
      " 9   ArvAdherenceLatestLevel  23540 non-null  object        \n",
      " 10  ViralLoad                23540 non-null  object        \n",
      " 11  AIDS education           23540 non-null  object        \n",
      " 12  Result                   23540 non-null  object        \n",
      " 13  WeightChange             23540 non-null  float64       \n",
      "dtypes: datetime64[ns](2), float64(4), int64(1), object(7)\n",
      "memory usage: 2.7+ MB\n"
     ]
    }
   ],
   "source": [
    "df_4.info()"
   ]
  },
  {
   "cell_type": "code",
   "execution_count": 25,
   "id": "35c4c8dc-6c6e-41d6-90b7-fae9d475a0c5",
   "metadata": {},
   "outputs": [
    {
     "data": {
      "text/plain": [
       "count                            23540\n",
       "mean     2015-02-07 05:27:23.704333056\n",
       "min                1900-01-26 00:00:00\n",
       "25%                2013-12-23 00:00:00\n",
       "50%                2015-04-03 00:00:00\n",
       "75%                2016-07-03 00:00:00\n",
       "max                2019-12-28 00:00:00\n",
       "Name: DateOfConfirmedHIV, dtype: object"
      ]
     },
     "execution_count": 25,
     "metadata": {},
     "output_type": "execute_result"
    }
   ],
   "source": [
    "df_4.DateOfConfirmedHIV.describe()"
   ]
  },
  {
   "cell_type": "code",
   "execution_count": 26,
   "id": "5f30534c-54e4-4ffe-9910-17ec346d2ece",
   "metadata": {},
   "outputs": [
    {
     "name": "stdout",
     "output_type": "stream",
     "text": [
      "Before (23540, 14)\n",
      "After (23385, 14)\n"
     ]
    }
   ],
   "source": [
    "print('Before',df_4.shape)\n",
    "df_5 = df_4[(df_4.DateOfConfirmedHIV >= '2009-01-01 00:00:00') & (df_4.DateOfEnrollment >= '2009-01-01 00:00:00') ]\n",
    "\n",
    "print('After',df_5.shape)"
   ]
  },
  {
   "cell_type": "code",
   "execution_count": 27,
   "id": "3628af55-544a-47b8-8059-c738c3e90bca",
   "metadata": {},
   "outputs": [
    {
     "data": {
      "text/plain": [
       "count                            23385\n",
       "mean     2015-03-25 23:41:53.765234176\n",
       "min                2009-01-14 00:00:00\n",
       "25%                2014-01-04 00:00:00\n",
       "50%                2015-04-08 00:00:00\n",
       "75%                2016-07-07 00:00:00\n",
       "max                2019-12-28 00:00:00\n",
       "Name: DateOfConfirmedHIV, dtype: object"
      ]
     },
     "execution_count": 27,
     "metadata": {},
     "output_type": "execute_result"
    }
   ],
   "source": [
    "df_5.DateOfConfirmedHIV.describe()"
   ]
  },
  {
   "cell_type": "code",
   "execution_count": 28,
   "id": "cbf9f687-530b-4f56-9065-5e7f2272ba31",
   "metadata": {},
   "outputs": [
    {
     "data": {
      "text/plain": [
       "12715             107\n",
       "1613               40\n",
       "21343             <20\n",
       "25819             <20\n",
       "16705             <20\n",
       "1707         L20cp/ml\n",
       "24454              32\n",
       "22026              20\n",
       "24216             174\n",
       "18125       203 cp/ml\n",
       "15429              61\n",
       "19613        97 cp/ml\n",
       "12056    Less than 20\n",
       "9870          22cp/ml\n",
       "8230              <20\n",
       "17055             150\n",
       "1025               36\n",
       "17167        C20cp/ml\n",
       "5265               20\n",
       "9719        <20 cp/ml\n",
       "Name: ViralLoad, dtype: object"
      ]
     },
     "execution_count": 28,
     "metadata": {},
     "output_type": "execute_result"
    }
   ],
   "source": [
    "df_5.ViralLoad.sample(20)"
   ]
  },
  {
   "cell_type": "code",
   "execution_count": 29,
   "id": "2ddd73aa-d82d-4773-9240-d9313d48ded6",
   "metadata": {},
   "outputs": [
    {
     "name": "stdout",
     "output_type": "stream",
     "text": [
      "Before (23385, 14)\n"
     ]
    }
   ],
   "source": [
    "print('Before',df_5.shape)"
   ]
  },
  {
   "cell_type": "code",
   "execution_count": 31,
   "id": "ac1dc7fa-33c6-4d92-9d9a-2675259c34a4",
   "metadata": {},
   "outputs": [
    {
     "name": "stdout",
     "output_type": "stream",
     "text": [
      "before (23385, 13)\n",
      "before (18568, 13)\n",
      "after (17577, 13)\n",
      "0          Civil servant\n",
      "1          Civil servant\n",
      "2          Civil servant\n",
      "3          Civil servant\n",
      "4          Self employed\n",
      "              ...       \n",
      "27283      Self employed\n",
      "27284         Unemployed\n",
      "27285    Business person\n",
      "27286    Business person\n",
      "27287    Business person\n",
      "Name: Occupation, Length: 17577, dtype: object\n"
     ]
    },
    {
     "name": "stderr",
     "output_type": "stream",
     "text": [
      "/tmp/ipykernel_12640/2714212654.py:3: SettingWithCopyWarning: \n",
      "A value is trying to be set on a copy of a slice from a DataFrame.\n",
      "Try using .loc[row_indexer,col_indexer] = value instead\n",
      "\n",
      "See the caveats in the documentation: https://pandas.pydata.org/pandas-docs/stable/user_guide/indexing.html#returning-a-view-versus-a-copy\n",
      "  df_5['TimeTaken'] = time_taken\n",
      "/tmp/ipykernel_12640/2714212654.py:4: SettingWithCopyWarning: \n",
      "A value is trying to be set on a copy of a slice from a DataFrame.\n",
      "Try using .loc[row_indexer,col_indexer] = value instead\n",
      "\n",
      "See the caveats in the documentation: https://pandas.pydata.org/pandas-docs/stable/user_guide/indexing.html#returning-a-view-versus-a-copy\n",
      "  df_5['TimeTaken_Days'] = df_5['TimeTaken'].dt.days\n"
     ]
    }
   ],
   "source": [
    "#Finding relationships\n",
    "time_taken = df_5.DateOfEnrollment - df_5.DateOfConfirmedHIV \n",
    "df_5['TimeTaken'] = time_taken\n",
    "df_5['TimeTaken_Days'] = df_5['TimeTaken'].dt.days\n",
    "df_6 = df_5[['Age','MaritalStatus','Occupation','AIDS education','TimeTaken_Days','ArvAdherenceLatestLevel','WeightAtStart','WeightAtLastVisit','Sex','WeightChange','Cd4AtStart','ViralLoad','Result']]\n",
    "\n",
    "print('before',df_6.shape)\n",
    "df_6 = df_6[(df_6.TimeTaken_Days >= 0) & (df_6.TimeTaken_Days <= 60)]\n",
    "print('before',df_6.shape)\n",
    "df_6 = df_6[(df_6.MaritalStatus != \"Missing\") ]\n",
    "\n",
    "df_6.TimeTaken_Days.value_counts()\n",
    "print('after',df_6.shape)\n",
    "print(df_6.Occupation)\n"
   ]
  },
  {
   "cell_type": "code",
   "execution_count": 32,
   "id": "9300ceeb-abe9-43b6-b30c-404aefa2489d",
   "metadata": {},
   "outputs": [
    {
     "name": "stdout",
     "output_type": "stream",
     "text": [
      "<class 'pandas.core.frame.DataFrame'>\n",
      "Index: 17577 entries, 0 to 27287\n",
      "Data columns (total 13 columns):\n",
      " #   Column                   Non-Null Count  Dtype  \n",
      "---  ------                   --------------  -----  \n",
      " 0   Age                      17577 non-null  int64  \n",
      " 1   MaritalStatus            17577 non-null  object \n",
      " 2   Occupation               17577 non-null  object \n",
      " 3   AIDS education           17577 non-null  object \n",
      " 4   TimeTaken_Days           17577 non-null  int64  \n",
      " 5   ArvAdherenceLatestLevel  17577 non-null  object \n",
      " 6   WeightAtStart            17577 non-null  float64\n",
      " 7   WeightAtLastVisit        17577 non-null  float64\n",
      " 8   Sex                      17577 non-null  object \n",
      " 9   WeightChange             17577 non-null  float64\n",
      " 10  Cd4AtStart               17577 non-null  float64\n",
      " 11  ViralLoad                17577 non-null  object \n",
      " 12  Result                   17577 non-null  object \n",
      "dtypes: float64(4), int64(2), object(7)\n",
      "memory usage: 1.9+ MB\n"
     ]
    }
   ],
   "source": [
    "df_6.info()"
   ]
  },
  {
   "cell_type": "code",
   "execution_count": 33,
   "id": "5b2b9d84-f69e-4324-a1ca-7438aaf818b0",
   "metadata": {},
   "outputs": [
    {
     "data": {
      "image/png": "[encoded data removed]",
      "text/plain": [
       "<Figure size 800x500 with 2 Axes>"
      ]
     },
     "metadata": {},
     "output_type": "display_data"
    }
   ],
   "source": [
    "correlation= df_6[['Age','WeightAtStart','WeightAtLastVisit','WeightChange','TimeTaken_Days']].corr()\n",
    "import pandas as pd\n",
    "import seaborn as sns\n",
    "import matplotlib.pyplot as plt\n",
    "\n",
    "colormap = \"coolwarm\"  \n",
    "plt.figure(figsize=(8, 5))  \n",
    "sns.heatmap(correlation, cmap=colormap, annot=True, fmt=\".2f\", linewidths=0.5)\n",
    "plt.xticks(rotation=35, ha=\"right\")  \n",
    "plt.yticks(rotation=0)  \n",
    "plt.tight_layout()  \n",
    "plt.title(\"Correlation Heatmap\")\n",
    "plt.show()"
   ]
  },
  {
   "cell_type": "code",
   "execution_count": 34,
   "id": "1c699bde-d3cc-4be3-99fb-e85f2e5caeff",
   "metadata": {},
   "outputs": [
    {
     "name": "stdout",
     "output_type": "stream",
     "text": [
      "After (17577, 13)\n"
     ]
    },
    {
     "data": {
      "text/plain": [
       "MaritalStatus\n",
       "Married       12159\n",
       "Single         3450\n",
       "Widowed        1251\n",
       "Divorced        372\n",
       "Seperated       329\n",
       "Cohabiting       16\n",
       "Name: count, dtype: int64"
      ]
     },
     "execution_count": 34,
     "metadata": {},
     "output_type": "execute_result"
    }
   ],
   "source": [
    "print('After',df_6.shape)\n",
    "df_6.MaritalStatus.value_counts()"
   ]
  },
  {
   "cell_type": "code",
   "execution_count": 35,
   "id": "9606a6d7-1ab8-4c68-a671-0a244409f7e3",
   "metadata": {},
   "outputs": [
    {
     "data": {
      "text/html": [
       "<div>\n",
       "<style scoped>\n",
       "    .dataframe tbody tr th:only-of-type {\n",
       "        vertical-align: middle;\n",
       "    }\n",
       "\n",
       "    .dataframe tbody tr th {\n",
       "        vertical-align: top;\n",
       "    }\n",
       "\n",
       "    .dataframe thead th {\n",
       "        text-align: right;\n",
       "    }\n",
       "</style>\n",
       "<table border=\"1\" class=\"dataframe\">\n",
       "  <thead>\n",
       "    <tr style=\"text-align: right;\">\n",
       "      <th></th>\n",
       "      <th>Age</th>\n",
       "      <th>TimeTaken_Days</th>\n",
       "    </tr>\n",
       "  </thead>\n",
       "  <tbody>\n",
       "    <tr>\n",
       "      <th>count</th>\n",
       "      <td>1190.000000</td>\n",
       "      <td>1190.000000</td>\n",
       "    </tr>\n",
       "    <tr>\n",
       "      <th>mean</th>\n",
       "      <td>36.224370</td>\n",
       "      <td>2.378218</td>\n",
       "    </tr>\n",
       "    <tr>\n",
       "      <th>std</th>\n",
       "      <td>11.679023</td>\n",
       "      <td>4.912014</td>\n",
       "    </tr>\n",
       "    <tr>\n",
       "      <th>min</th>\n",
       "      <td>13.000000</td>\n",
       "      <td>0.000000</td>\n",
       "    </tr>\n",
       "    <tr>\n",
       "      <th>25%</th>\n",
       "      <td>27.000000</td>\n",
       "      <td>0.000000</td>\n",
       "    </tr>\n",
       "    <tr>\n",
       "      <th>50%</th>\n",
       "      <td>35.000000</td>\n",
       "      <td>0.416667</td>\n",
       "    </tr>\n",
       "    <tr>\n",
       "      <th>75%</th>\n",
       "      <td>45.000000</td>\n",
       "      <td>3.000000</td>\n",
       "    </tr>\n",
       "    <tr>\n",
       "      <th>max</th>\n",
       "      <td>60.000000</td>\n",
       "      <td>58.000000</td>\n",
       "    </tr>\n",
       "  </tbody>\n",
       "</table>\n",
       "</div>"
      ],
      "text/plain": [
       "               Age  TimeTaken_Days\n",
       "count  1190.000000     1190.000000\n",
       "mean     36.224370        2.378218\n",
       "std      11.679023        4.912014\n",
       "min      13.000000        0.000000\n",
       "25%      27.000000        0.000000\n",
       "50%      35.000000        0.416667\n",
       "75%      45.000000        3.000000\n",
       "max      60.000000       58.000000"
      ]
     },
     "execution_count": 35,
     "metadata": {},
     "output_type": "execute_result"
    }
   ],
   "source": [
    "\n",
    "\n",
    "highest_timetaken = df_6.groupby(['Age', 'MaritalStatus', 'Occupation', 'AIDS education'])['TimeTaken_Days'].mean().reset_index()\n",
    "\n",
    "highest_timetaken = highest_timetaken.sort_values(by='TimeTaken_Days', ascending=False)\n",
    "\n",
    "highest_timetaken = highest_timetaken.describe()\n",
    "\n",
    "highest_timetaken"
   ]
  },
  {
   "cell_type": "code",
   "execution_count": 36,
   "id": "0047efb0-6077-41ec-931a-be1f5dc915d5",
   "metadata": {},
   "outputs": [
    {
     "name": "stdout",
     "output_type": "stream",
     "text": [
      "<class 'pandas.core.frame.DataFrame'>\n",
      "Index: 17577 entries, 0 to 27287\n",
      "Data columns (total 14 columns):\n",
      " #   Column                   Non-Null Count  Dtype   \n",
      "---  ------                   --------------  -----   \n",
      " 0   Age                      17577 non-null  int64   \n",
      " 1   MaritalStatus            17577 non-null  object  \n",
      " 2   Occupation               17577 non-null  object  \n",
      " 3   AIDS education           17577 non-null  object  \n",
      " 4   TimeTaken_Days           17577 non-null  int64   \n",
      " 5   ArvAdherenceLatestLevel  17577 non-null  object  \n",
      " 6   WeightAtStart            17577 non-null  float64 \n",
      " 7   WeightAtLastVisit        17577 non-null  float64 \n",
      " 8   Sex                      17577 non-null  object  \n",
      " 9   WeightChange             17577 non-null  float64 \n",
      " 10  Cd4AtStart               17577 non-null  float64 \n",
      " 11  ViralLoad                17577 non-null  object  \n",
      " 12  Result                   17577 non-null  object  \n",
      " 13  age_group                17546 non-null  category\n",
      "dtypes: category(1), float64(4), int64(2), object(7)\n",
      "memory usage: 1.9+ MB\n"
     ]
    }
   ],
   "source": [
    "# Define your desired age groups (adjust as needed)\n",
    "age_groups = [(13, 17), (18, 22), (23, 27),(28, 33), (34, 38), (39, 43),(44, 48), (49, 53), (54, 60)]\n",
    "# Assuming you have 'Age' and 'TimeTaken' columns in df_6\n",
    "\n",
    "average_time_taken = []\n",
    "for age_group in age_groups:\n",
    "  # Filter data for the current age group\n",
    "  group_data = df_6[(df_6['Age'] >= age_group[0]) & (df_6['Age'] <= age_group[1])]\n",
    "  # Calculate average time taken for this group\n",
    "  average_time_taken.append(group_data['TimeTaken_Days'].mean())\n",
    "group_data\n",
    "age_group_labels = [f\"{start}-{end}\" for start, end in age_groups]\n",
    "df_6['age_group'] = pd.cut(df_6['Age'], bins=[group[0] for group in age_groups] + [max(df_6['Age']) + 1], labels=age_group_labels)\n",
    "df_7 = df_6[['Age','age_group','TimeTaken_Days']]\n",
    "df_6.info()\n",
    "\n"
   ]
  },
  {
   "cell_type": "code",
   "execution_count": 37,
   "id": "fa45b02f-2c4a-4d97-babd-0003e6a13c0f",
   "metadata": {},
   "outputs": [
    {
     "data": {
      "text/html": [
       "<div>\n",
       "<style scoped>\n",
       "    .dataframe tbody tr th:only-of-type {\n",
       "        vertical-align: middle;\n",
       "    }\n",
       "\n",
       "    .dataframe tbody tr th {\n",
       "        vertical-align: top;\n",
       "    }\n",
       "\n",
       "    .dataframe thead th {\n",
       "        text-align: right;\n",
       "    }\n",
       "</style>\n",
       "<table border=\"1\" class=\"dataframe\">\n",
       "  <thead>\n",
       "    <tr style=\"text-align: right;\">\n",
       "      <th></th>\n",
       "      <th>Age</th>\n",
       "      <th>MaritalStatus</th>\n",
       "      <th>Occupation</th>\n",
       "      <th>AIDS education</th>\n",
       "      <th>TimeTaken_Days</th>\n",
       "      <th>ArvAdherenceLatestLevel</th>\n",
       "      <th>WeightAtStart</th>\n",
       "      <th>WeightAtLastVisit</th>\n",
       "      <th>Sex</th>\n",
       "      <th>WeightChange</th>\n",
       "      <th>Cd4AtStart</th>\n",
       "      <th>ViralLoad</th>\n",
       "      <th>Result</th>\n",
       "      <th>age_group</th>\n",
       "    </tr>\n",
       "  </thead>\n",
       "  <tbody>\n",
       "    <tr>\n",
       "      <th>0</th>\n",
       "      <td>50</td>\n",
       "      <td>Married</td>\n",
       "      <td>Civil servant</td>\n",
       "      <td>NO</td>\n",
       "      <td>31</td>\n",
       "      <td>Good</td>\n",
       "      <td>78.0</td>\n",
       "      <td>85.0</td>\n",
       "      <td>Male</td>\n",
       "      <td>-19.0</td>\n",
       "      <td>20.0</td>\n",
       "      <td>&lt;20</td>\n",
       "      <td>NEGATIVE</td>\n",
       "      <td>49-53</td>\n",
       "    </tr>\n",
       "    <tr>\n",
       "      <th>1</th>\n",
       "      <td>50</td>\n",
       "      <td>Married</td>\n",
       "      <td>Civil servant</td>\n",
       "      <td>YES</td>\n",
       "      <td>31</td>\n",
       "      <td>Good</td>\n",
       "      <td>78.0</td>\n",
       "      <td>85.0</td>\n",
       "      <td>Male</td>\n",
       "      <td>-28.0</td>\n",
       "      <td>20.0</td>\n",
       "      <td>&lt;20</td>\n",
       "      <td>NEGATIVE</td>\n",
       "      <td>49-53</td>\n",
       "    </tr>\n",
       "    <tr>\n",
       "      <th>2</th>\n",
       "      <td>50</td>\n",
       "      <td>Married</td>\n",
       "      <td>Civil servant</td>\n",
       "      <td>YES</td>\n",
       "      <td>31</td>\n",
       "      <td>Good</td>\n",
       "      <td>78.0</td>\n",
       "      <td>85.0</td>\n",
       "      <td>Male</td>\n",
       "      <td>7.0</td>\n",
       "      <td>20.0</td>\n",
       "      <td>&lt;20</td>\n",
       "      <td>POSITIVE</td>\n",
       "      <td>49-53</td>\n",
       "    </tr>\n",
       "    <tr>\n",
       "      <th>3</th>\n",
       "      <td>50</td>\n",
       "      <td>Married</td>\n",
       "      <td>Civil servant</td>\n",
       "      <td>NO</td>\n",
       "      <td>31</td>\n",
       "      <td>Good</td>\n",
       "      <td>78.0</td>\n",
       "      <td>85.0</td>\n",
       "      <td>Male</td>\n",
       "      <td>-31.0</td>\n",
       "      <td>20.0</td>\n",
       "      <td>&lt;20</td>\n",
       "      <td>POSITIVE</td>\n",
       "      <td>49-53</td>\n",
       "    </tr>\n",
       "    <tr>\n",
       "      <th>4</th>\n",
       "      <td>51</td>\n",
       "      <td>Married</td>\n",
       "      <td>Self employed</td>\n",
       "      <td>NO</td>\n",
       "      <td>7</td>\n",
       "      <td>Good</td>\n",
       "      <td>41.0</td>\n",
       "      <td>47.0</td>\n",
       "      <td>Female</td>\n",
       "      <td>29.0</td>\n",
       "      <td>58.0</td>\n",
       "      <td>9031co/ml</td>\n",
       "      <td>POSITIVE</td>\n",
       "      <td>49-53</td>\n",
       "    </tr>\n",
       "    <tr>\n",
       "      <th>...</th>\n",
       "      <td>...</td>\n",
       "      <td>...</td>\n",
       "      <td>...</td>\n",
       "      <td>...</td>\n",
       "      <td>...</td>\n",
       "      <td>...</td>\n",
       "      <td>...</td>\n",
       "      <td>...</td>\n",
       "      <td>...</td>\n",
       "      <td>...</td>\n",
       "      <td>...</td>\n",
       "      <td>...</td>\n",
       "      <td>...</td>\n",
       "      <td>...</td>\n",
       "    </tr>\n",
       "    <tr>\n",
       "      <th>27283</th>\n",
       "      <td>20</td>\n",
       "      <td>Married</td>\n",
       "      <td>Self employed</td>\n",
       "      <td>Yes</td>\n",
       "      <td>0</td>\n",
       "      <td>Good</td>\n",
       "      <td>48.0</td>\n",
       "      <td>48.0</td>\n",
       "      <td>Female</td>\n",
       "      <td>19.0</td>\n",
       "      <td>281.0</td>\n",
       "      <td>150</td>\n",
       "      <td>Negative</td>\n",
       "      <td>18-22</td>\n",
       "    </tr>\n",
       "    <tr>\n",
       "      <th>27284</th>\n",
       "      <td>55</td>\n",
       "      <td>Married</td>\n",
       "      <td>Unemployed</td>\n",
       "      <td>NO</td>\n",
       "      <td>0</td>\n",
       "      <td>Good</td>\n",
       "      <td>50.0</td>\n",
       "      <td>49.0</td>\n",
       "      <td>Male</td>\n",
       "      <td>-5.0</td>\n",
       "      <td>739.0</td>\n",
       "      <td>20</td>\n",
       "      <td>NEGATIVE</td>\n",
       "      <td>54-60</td>\n",
       "    </tr>\n",
       "    <tr>\n",
       "      <th>27285</th>\n",
       "      <td>41</td>\n",
       "      <td>Married</td>\n",
       "      <td>Business person</td>\n",
       "      <td>NO</td>\n",
       "      <td>0</td>\n",
       "      <td>Good</td>\n",
       "      <td>66.0</td>\n",
       "      <td>67.0</td>\n",
       "      <td>Male</td>\n",
       "      <td>-6.0</td>\n",
       "      <td>207.0</td>\n",
       "      <td>151</td>\n",
       "      <td>POSITIVE</td>\n",
       "      <td>39-43</td>\n",
       "    </tr>\n",
       "    <tr>\n",
       "      <th>27286</th>\n",
       "      <td>41</td>\n",
       "      <td>Married</td>\n",
       "      <td>Business person</td>\n",
       "      <td>NO</td>\n",
       "      <td>0</td>\n",
       "      <td>Good</td>\n",
       "      <td>66.0</td>\n",
       "      <td>67.0</td>\n",
       "      <td>Male</td>\n",
       "      <td>-11.0</td>\n",
       "      <td>207.0</td>\n",
       "      <td>151</td>\n",
       "      <td>NEGATIVE</td>\n",
       "      <td>39-43</td>\n",
       "    </tr>\n",
       "    <tr>\n",
       "      <th>27287</th>\n",
       "      <td>41</td>\n",
       "      <td>Married</td>\n",
       "      <td>Business person</td>\n",
       "      <td>YES</td>\n",
       "      <td>0</td>\n",
       "      <td>Good</td>\n",
       "      <td>66.0</td>\n",
       "      <td>67.0</td>\n",
       "      <td>Male</td>\n",
       "      <td>-1.0</td>\n",
       "      <td>207.0</td>\n",
       "      <td>151</td>\n",
       "      <td>NEGATIVE</td>\n",
       "      <td>39-43</td>\n",
       "    </tr>\n",
       "  </tbody>\n",
       "</table>\n",
       "<p>17577 rows × 14 columns</p>\n",
       "</div>"
      ],
      "text/plain": [
       "       Age MaritalStatus       Occupation AIDS education  TimeTaken_Days  \\\n",
       "0       50       Married    Civil servant             NO              31   \n",
       "1       50       Married    Civil servant            YES              31   \n",
       "2       50       Married    Civil servant            YES              31   \n",
       "3       50       Married    Civil servant             NO              31   \n",
       "4       51       Married    Self employed             NO               7   \n",
       "...    ...           ...              ...            ...             ...   \n",
       "27283   20       Married    Self employed            Yes               0   \n",
       "27284   55       Married       Unemployed             NO               0   \n",
       "27285   41       Married  Business person             NO               0   \n",
       "27286   41       Married  Business person             NO               0   \n",
       "27287   41       Married  Business person            YES               0   \n",
       "\n",
       "      ArvAdherenceLatestLevel  WeightAtStart  WeightAtLastVisit     Sex  \\\n",
       "0                        Good           78.0               85.0    Male   \n",
       "1                        Good           78.0               85.0    Male   \n",
       "2                        Good           78.0               85.0    Male   \n",
       "3                        Good           78.0               85.0    Male   \n",
       "4                        Good           41.0               47.0  Female   \n",
       "...                       ...            ...                ...     ...   \n",
       "27283                    Good           48.0               48.0  Female   \n",
       "27284                    Good           50.0               49.0    Male   \n",
       "27285                    Good           66.0               67.0    Male   \n",
       "27286                    Good           66.0               67.0    Male   \n",
       "27287                    Good           66.0               67.0    Male   \n",
       "\n",
       "       WeightChange  Cd4AtStart  ViralLoad    Result age_group  \n",
       "0             -19.0        20.0        <20  NEGATIVE     49-53  \n",
       "1             -28.0        20.0        <20  NEGATIVE     49-53  \n",
       "2               7.0        20.0        <20  POSITIVE     49-53  \n",
       "3             -31.0        20.0        <20  POSITIVE     49-53  \n",
       "4              29.0        58.0  9031co/ml  POSITIVE     49-53  \n",
       "...             ...         ...        ...       ...       ...  \n",
       "27283          19.0       281.0        150  Negative     18-22  \n",
       "27284          -5.0       739.0         20  NEGATIVE     54-60  \n",
       "27285          -6.0       207.0        151  POSITIVE     39-43  \n",
       "27286         -11.0       207.0        151  NEGATIVE     39-43  \n",
       "27287          -1.0       207.0        151  NEGATIVE     39-43  \n",
       "\n",
       "[17577 rows x 14 columns]"
      ]
     },
     "execution_count": 37,
     "metadata": {},
     "output_type": "execute_result"
    }
   ],
   "source": [
    "df_6"
   ]
  },
  {
   "cell_type": "code",
   "execution_count": 40,
   "id": "d20b1ab1-d08d-4cca-bffb-ee9224cfafd2",
   "metadata": {
    "scrolled": true
   },
   "outputs": [
    {
     "name": "stdout",
     "output_type": "stream",
     "text": [
      "Summary Staistics of Time Taken in Days\n"
     ]
    },
    {
     "data": {
      "text/plain": [
       "count    17577.000000\n",
       "mean         2.579394\n",
       "std          8.305958\n",
       "min          0.000000\n",
       "25%          0.000000\n",
       "50%          0.000000\n",
       "75%          0.000000\n",
       "max         60.000000\n",
       "Name: TimeTaken_Days, dtype: float64"
      ]
     },
     "execution_count": 40,
     "metadata": {},
     "output_type": "execute_result"
    }
   ],
   "source": [
    "print('Summary Staistics of Time Taken in Days')\n",
    "df_7.TimeTaken_Days.describe()"
   ]
  },
  {
   "cell_type": "code",
   "execution_count": 41,
   "id": "de1de80a-aa8a-4281-9bdd-12f8d38e75ff",
   "metadata": {},
   "outputs": [
    {
     "data": {
      "text/plain": [
       "[17247, 16117, 1130, 330]"
      ]
     },
     "execution_count": 41,
     "metadata": {},
     "output_type": "execute_result"
    }
   ],
   "source": [
    "Top_10_time = df_7[(df_7['TimeTaken_Days'] >= 32) & (df_7['TimeTaken_Days'] <= 60)]\n",
    "mid_time = df_7[(df_7['TimeTaken_Days'] >= 8) & (df_7['TimeTaken_Days'] <= 31)]\n",
    "last_10_time = df_7[(df_7['TimeTaken_Days'] >= 0) & (df_7['TimeTaken_Days'] <= 7)]\n",
    "month_time = df_7[(df_7['TimeTaken_Days'] >= 0) & (df_7['TimeTaken_Days'] <= 31)]\n",
    "# print('Summary Staistics of Number of People who the shortest Time taken (0 - 7 Days)')\n",
    "# print(last_10_time .TimeTaken_Days.describe())\n",
    "# print('Summary Staistics of Number of People who the Second shortest Time taken (8 - 31 Days)')\n",
    "# print(mid_time.TimeTaken_Days.describe())\n",
    "# print('Summary Staistics of Number of People who the longest Time taken (32 - 60 Days)')\n",
    "# print(month_time.TimeTaken_Days.describe())\n",
    "# print(\"Summary Staistics of Number of People who' Time taken  was within 1 month\")\n",
    "\n",
    "rows,cols  = last_10_time.shape\n",
    "rows1,cols  = mid_time.shape\n",
    "rows2,cols  = month_time.shape\n",
    "rows3,cols  = Top_10_time.shape\n",
    "occure =[rows2,rows,rows1,rows3]\n",
    "occure\n",
    "#print(rows)"
   ]
  },
  {
   "cell_type": "code",
   "execution_count": 42,
   "id": "52a94949-172d-4833-b0d2-0c90b9134c08",
   "metadata": {
    "scrolled": true
   },
   "outputs": [],
   "source": [
    "labels = ['0-7 Days', '8-31 Days', '1 Month', '32-60 Days']"
   ]
  },
  {
   "cell_type": "code",
   "execution_count": 43,
   "id": "8af55240-d68b-49e9-8428-01641378730e",
   "metadata": {},
   "outputs": [
    {
     "data": {
      "image/png": "[encoded data removed]",
      "text/plain": [
       "<Figure size 800x600 with 1 Axes>"
      ]
     },
     "metadata": {},
     "output_type": "display_data"
    }
   ],
   "source": [
    "plt.figure(figsize=(8, 6)) \n",
    "plt.pie(occure, autopct='%1.1f%%', startangle=55)\n",
    "plt.legend(labels, loc='best')\n",
    "plt.show()"
   ]
  },
  {
   "cell_type": "code",
   "execution_count": 44,
   "id": "a08d1fa2-50c3-40d1-b2b2-e0653af33f50",
   "metadata": {
    "scrolled": true
   },
   "outputs": [],
   "source": [
    "df_6.ArvAdherenceLatestLevel.describe()\n",
    "poor_level = df_6[(df_6['ArvAdherenceLatestLevel'] == 'Poor' )]\n",
    "poor_fair_level =  df_6[(df_6['ArvAdherenceLatestLevel'] == 'Poor') | (df_6['ArvAdherenceLatestLevel'] == 'Fair')]\n",
    "\n",
    "count_level = poor_level.age_group.value_counts()\n"
   ]
  },
  {
   "cell_type": "code",
   "execution_count": 45,
   "id": "5c9072f1-356e-457f-b394-38d121a66689",
   "metadata": {},
   "outputs": [
    {
     "data": {
      "image/png": "[encoded data removed]",
      "text/plain": [
       "<Figure size 800x500 with 1 Axes>"
      ]
     },
     "metadata": {},
     "output_type": "display_data"
    }
   ],
   "source": [
    "import matplotlib.pyplot as plt\n",
    "\n",
    "plt.figure(figsize=(8, 5))  \n",
    "plt.bar(count_level.index, count_level.values)\n",
    "plt.xlabel('Age Group')\n",
    "plt.ylabel('Arv Adherence Latest Level ')\n",
    "plt.title('Age Group with the most Poor Arv Adherence Latest Level ')\n",
    "plt.xticks(rotation=45)  \n",
    "plt.tight_layout()\n",
    "plt.show()"
   ]
  },
  {
   "cell_type": "code",
   "execution_count": 46,
   "id": "5d18b56e-0d65-4284-8e0d-2199c5913bf5",
   "metadata": {},
   "outputs": [],
   "source": [
    "#alaysis of the 28-33 group\n",
    "df_8 = df_6[(df_6['age_group'] == '28-33')]\n",
    "prone_group =df_8[(df_8['TimeTaken_Days'] > 31)]\n",
    "occupaton =prone_group.Occupation.value_counts() \n",
    "prone_group_2 =df_8[(df_8['ArvAdherenceLatestLevel'] == 'Fair')]\n",
    "arv =prone_group_2.Occupation.value_counts() "
   ]
  },
  {
   "cell_type": "code",
   "execution_count": 47,
   "id": "ed9056b4-f2b7-49f9-bcf1-3a196d1db8c2",
   "metadata": {},
   "outputs": [
    {
     "data": {
      "image/png": "[encoded data removed]",
      "text/plain": [
       "<Figure size 800x600 with 1 Axes>"
      ]
     },
     "metadata": {},
     "output_type": "display_data"
    },
    {
     "data": {
      "image/png": "[encoded data removed]",
      "text/plain": [
       "<Figure size 800x500 with 1 Axes>"
      ]
     },
     "metadata": {},
     "output_type": "display_data"
    }
   ],
   "source": [
    "plt.figure(figsize=(8, 6))  #\n",
    "plt.pie(occupaton,labels=occupaton.index,  autopct='%1.1f%%', startangle=90)  \n",
    "plt.title('Distribution of Occupation on The Age Group Prone To Drop (28-33)')\n",
    "plt.axis('equal')\n",
    "plt.show()\n",
    "\n",
    "plt.figure(figsize=(8, 5))  #\n",
    "plt.pie(arv,labels=arv.index,  autopct='%1.1f%%', startangle=90)  \n",
    "plt.title('Distribution of Occupation on The Age Group That have Poor Adherence level')\n",
    "plt.axis('equal')\n",
    "plt.show()"
   ]
  },
  {
   "cell_type": "code",
   "execution_count": 48,
   "id": "fbed97ea-9aae-40d9-9b19-ea229e4c56dc",
   "metadata": {},
   "outputs": [
    {
     "data": {
      "text/plain": [
       "0.0055146069938257925"
      ]
     },
     "execution_count": 48,
     "metadata": {},
     "output_type": "execute_result"
    }
   ],
   "source": [
    "# correlation = df_6.corr()  \n",
    "# correlation\n",
    "df_9 = df_7[['Age','TimeTaken_Days']]\n",
    "\n",
    "\n",
    "correlation = df_9.corr() \n",
    "correlation_age_time = correlation['Age']['TimeTaken_Days']\n",
    "correlation_age_time"
   ]
  },
  {
   "cell_type": "code",
   "execution_count": 49,
   "id": "143c8a5c-74c2-4cfb-91c0-6b65da49eb16",
   "metadata": {},
   "outputs": [
    {
     "data": {
      "text/plain": [
       "MaritalStatus\n",
       "Married       12159\n",
       "Single         3450\n",
       "Widowed        1251\n",
       "Divorced        372\n",
       "Seperated       329\n",
       "Cohabiting       16\n",
       "Name: count, dtype: int64"
      ]
     },
     "execution_count": 49,
     "metadata": {},
     "output_type": "execute_result"
    }
   ],
   "source": [
    "df_6.MaritalStatus.value_counts()"
   ]
  },
  {
   "cell_type": "code",
   "execution_count": 50,
   "id": "50234b6b-fc01-43ff-942b-6ca2b2dcf265",
   "metadata": {},
   "outputs": [
    {
     "data": {
      "image/png": "[encoded data removed]",
      "text/plain": [
       "<Figure size 1000x500 with 1 Axes>"
      ]
     },
     "metadata": {},
     "output_type": "display_data"
    }
   ],
   "source": [
    "plt.figure(figsize=(10, 5))  \n",
    "marital_status_colors = {\n",
    "    \"Married\": \"blue\",\n",
    "    \"Divorced\": \"red\",\n",
    "    \"Single\": \"green\", \n",
    "    \"Widowed\":\"yellow\",\n",
    "    \"Seperated\":\"violet\",\n",
    "    \"Cohabiting\" :\"orange\"\n",
    "}\n",
    "\n",
    "plt.scatter(df_6['TimeTaken_Days'], df_6['ArvAdherenceLatestLevel'], c=[marital_status_colors[status] for status in df_6['MaritalStatus']], cmap=None, alpha=0.7)\n",
    "\n",
    "# Label axes and title\n",
    "plt.xlabel('Time Taken (Days)')\n",
    "plt.ylabel('ARV Adherence (Latest Level)')\n",
    "plt.title('Time Taken vs. ARV Adherence (Colored by Marital Status)')\n",
    "\n",
    "\n",
    "plt.legend(df['MaritalStatus'].unique())\n",
    "\n",
    "\n",
    "plt.grid(True)  \n",
    "plt.show()\n",
    "\n",
    "\n"
   ]
  },
  {
   "cell_type": "code",
   "execution_count": 51,
   "id": "707eaa77-9d82-4a60-9309-727d439056db",
   "metadata": {},
   "outputs": [
    {
     "data": {
      "image/png": "[encoded data removed]",
      "text/plain": [
       "<Figure size 1000x500 with 1 Axes>"
      ]
     },
     "metadata": {},
     "output_type": "display_data"
    }
   ],
   "source": [
    "plt.figure(figsize=(10, 5))  \n",
    "occupation_status_colors = {\n",
    "\n",
    "\"Unemployed\":\"red\",\n",
    "\"Self employed\":\"blue\",\n",
    "\"Business person\":  \"yellow\",  \n",
    "\"Civil servant\" : \"purple\",\n",
    "\"Student\" :\"green\"\n",
    "}\n",
    "\n",
    "plt.scatter(df_6['TimeTaken_Days'], df_6['ArvAdherenceLatestLevel'], c=[occupation_status_colors[status] for status in df_6['Occupation']], cmap=None, alpha=0.7)\n",
    "\n",
    "# Label axes and title\n",
    "plt.xlabel('Time Taken (Days)')\n",
    "plt.ylabel('ARV Adherence (Latest Level)')\n",
    "plt.title('Time Taken vs. ARV Adherence (Colored by Occupation)')\n",
    "\n",
    "\n",
    "plt.legend(df['MaritalStatus'].unique())\n",
    "\n",
    "\n",
    "plt.grid(True)  \n",
    "plt.show()"
   ]
  },
  {
   "cell_type": "code",
   "execution_count": 52,
   "id": "9bc5e5c2-f935-4f48-90ab-87556be7a51e",
   "metadata": {},
   "outputs": [
    {
     "data": {
      "text/plain": [
       "Occupation\n",
       "Unemployed         5637\n",
       "Self employed      5191\n",
       "Business person    3719\n",
       "Civil servant      1731\n",
       "Student            1299\n",
       "Name: count, dtype: int64"
      ]
     },
     "execution_count": 52,
     "metadata": {},
     "output_type": "execute_result"
    }
   ],
   "source": [
    "df_6.Occupation.value_counts()"
   ]
  },
  {
   "cell_type": "code",
   "execution_count": 53,
   "id": "afe5d245-7193-4d7e-b7f2-3f4b0c41e130",
   "metadata": {},
   "outputs": [
    {
     "data": {
      "image/png": "[encoded data removed]",
      "text/plain": [
       "<Figure size 1000x500 with 1 Axes>"
      ]
     },
     "metadata": {},
     "output_type": "display_data"
    }
   ],
   "source": [
    "plt.figure(figsize=(10, 5))  \n",
    "sex = {\n",
    "    \"Male\": \"blue\",\n",
    "    \"Female\": \"red\",\n",
    "    \n",
    "}\n",
    "\n",
    "plt.scatter(df_6['TimeTaken_Days'], df_6['ArvAdherenceLatestLevel'], c=[sex[status] for status in df_6['Sex']], cmap=None, alpha=0.7)\n",
    "\n",
    "# Label axes and title\n",
    "plt.xlabel('Time Taken (Days)')\n",
    "plt.ylabel('ARV Adherence (Latest Level)')\n",
    "plt.title('Time Taken vs. ARV Adherence (Colored by Sex)')\n",
    "\n",
    "\n",
    "plt.legend(df['Sex'].unique())\n",
    "\n",
    "\n",
    "plt.grid(True)  \n",
    "plt.show()"
   ]
  },
  {
   "cell_type": "code",
   "execution_count": 54,
   "id": "6bce62d6-6f3a-43ce-9c47-0a8f761d60be",
   "metadata": {},
   "outputs": [
    {
     "data": {
      "image/png": "[encoded data removed]",
      "text/plain": [
       "<Figure size 800x500 with 1 Axes>"
      ]
     },
     "metadata": {},
     "output_type": "display_data"
    }
   ],
   "source": [
    "\n",
    "plt.figure(figsize=(8, 5))  \n",
    "plt.bar(df_6['Age'], df_6['ArvAdherenceLatestLevel'])\n",
    "plt.xlabel('Age')\n",
    "plt.ylabel('Arv Adherence Latest Level ')\n",
    "plt.title('Age Group  versus Arv Adherence Latest Level ')\n",
    "plt.xticks(rotation=45)  \n",
    "plt.tight_layout()\n",
    "plt.show()"
   ]
  },
  {
   "cell_type": "code",
   "execution_count": 55,
   "id": "61d74b58-0c2b-4e69-94bb-c832a842aa90",
   "metadata": {},
   "outputs": [
    {
     "data": {
      "text/plain": [
       "(17577, 14)"
      ]
     },
     "execution_count": 55,
     "metadata": {},
     "output_type": "execute_result"
    }
   ],
   "source": [
    "df_6.shape"
   ]
  },
  {
   "cell_type": "code",
   "execution_count": 56,
   "id": "3aa6ffa0-b3e1-4a9d-baba-e3ccf2d2af25",
   "metadata": {},
   "outputs": [],
   "source": [
    "df_6.to_csv('/home/takudzwa/Documents/Projects/ProjectGuides/DataScience/everdine/hiv_retention/dataset/cleanData.csv',index=False)\n",
    "df_6.to_excel('cleanData.xlsx', index=False)"
   ]
  },
  {
   "cell_type": "code",
   "execution_count": 57,
   "id": "1906afbd-ac72-45f8-8554-902f91ef77e9",
   "metadata": {},
   "outputs": [],
   "source": [
    "import re\n",
    "\n",
    "# Remove units (assuming \"copies/mL\" format)\n",
    "df_6[\"ViralLoad\"] = df_6[\"ViralLoad\"].str.replace(\"cp/ml\", \"\", regex=True)\n",
    "df_6[\"ViralLoad\"] = df_6[\"ViralLoad\"].str.replace(\"copies/ml\", \"\", regex=True)\n",
    "df_6[\"ViralLoad\"] = df_6[\"ViralLoad\"].str.replace(\"Less than\", \"\", regex=True)\n",
    "df_6[\"ViralLoad\"] = df_6[\"ViralLoad\"].str.replace(\"cpm\", \"\", regex=True)\n",
    "df_6[\"ViralLoad\"] = df_6[\"ViralLoad\"].str.replace(\"TND\", '', regex=True)\n",
    "df_6[\"ViralLoad\"] = df_6[\"ViralLoad\"].str.replace(\"<\", \"\", regex=True)\n",
    "df_6[\"ViralLoad\"] = df_6[\"ViralLoad\"].str.replace(\"copies per mil\", \"\", regex=True)\n",
    "df_6[\"ViralLoad\"] = df_6[\"ViralLoad\"].str.replace(\"Failed\", \"\", regex=True)\n",
    "df_6[\"ViralLoad\"] = df_6[\"ViralLoad\"].str.replace(\"/\", \"\", regex=True)\n",
    "df_6[\"ViralLoad\"] = df_6[\"ViralLoad\"].str.replace(\"less than\", \"\", regex=True)\n",
    "df_6[\"ViralLoad\"] = df_6[\"ViralLoad\"].str.replace(\"not documented\", \"\", regex=True)\n",
    "df_6[\"ViralLoad\"] = df_6[\"ViralLoad\"].str.replace(\"cp ml\", \"\", regex=True)\n",
    "df_6[\"ViralLoad\"] = df_6[\"ViralLoad\"].str.replace(\"failed\", \"\", regex=True)\n",
    "df_6[\"ViralLoad\"] = df_6[\"ViralLoad\"].str.replace(\"copies PER mil\", \"\", regex=True)\n",
    "df_6[\"ViralLoad\"] = df_6[\"ViralLoad\"].str.replace(\"l\", \"\", regex=True)\n",
    "df_6[\"ViralLoad\"] = df_6[\"ViralLoad\"].str.replace(\"Target  Not  Detected\", \"\", regex=True)\n",
    "df_6[\"ViralLoad\"] = df_6[\"ViralLoad\"].str.replace(\"cp\", \"\", regex=True)\n",
    "df_6[\"ViralLoad\"] = df_6[\"ViralLoad\"].str.replace(\"copies\", \"\", regex=True)\n",
    "df_6[\"ViralLoad\"] = df_6[\"ViralLoad\"].str.replace(\"m\", \"\", regex=True)\n",
    "df_6[\"ViralLoad\"] = df_6[\"ViralLoad\"].str.replace(\"Not\", \"\", regex=True)\n",
    "df_6[\"ViralLoad\"] = df_6[\"ViralLoad\"].str.replace(\"co\", \"\", regex=True)\n",
    "df_6[\"ViralLoad\"] = df_6[\"ViralLoad\"].str.replace(\"Missing\", \"\", regex=True)\n",
    "df_6[\"ViralLoad\"] = df_6[\"ViralLoad\"].str.replace(\"PER i\", \"\", regex=True)\n",
    "df_6[\"ViralLoad\"] = df_6[\"ViralLoad\"].str.replace(\"not detected\", \"\", regex=True)\n",
    "df_6[\"ViralLoad\"] = df_6[\"ViralLoad\"].str.replace(\"pending not seen\", \"\", regex=True)\n",
    "df_6[\"ViralLoad\"] = df_6[\"ViralLoad\"].str.replace(\"p\", \"\", regex=True)\n",
    "\n",
    "\n",
    "# df_6[\"ViralLoad\"] = df_6[\"ViralLoad\"].fillna(0)\n",
    "\n",
    "# df_6[\"ViralLoad\"]= df_6[\"ViralLoad\"].sample(n=20)\n",
    "# df_6[\"ViralLoad\"]\n"
   ]
  },
  {
   "cell_type": "code",
   "execution_count": 58,
   "id": "f953f7ac-077d-4650-aa97-9f6bf290b3c7",
   "metadata": {},
   "outputs": [],
   "source": [
    "# df_6[\"ViralLoad\"] =pd.to_numeric(df_6[\"ViralLoad\"])\n",
    "# ViralLoad = df_6[\"ViralLoad\"]\n",
    "# pd.Series([\"Suppressed\" if ViralLoad <= 20 else \"Not Suppressed\" ], name=\"BinaryViralLoad\")\n",
    "\n",
    "# df_6[\"BinaryViralLoad\"] = create_binary_viral_load(df_6[\"ViralLoad\"])\n"
   ]
  },
  {
   "cell_type": "code",
   "execution_count": null,
   "id": "741f1518-198f-433a-8d72-b970b7e4d6cf",
   "metadata": {},
   "outputs": [],
   "source": []
  }
 ],
 "metadata": {
  "kernelspec": {
   "display_name": "Python 3 (ipykernel)",
   "language": "python",
   "name": "python3"
  },
  "language_info": {
   "codemirror_mode": {
    "name": "ipython",
    "version": 3
   },
   "file_extension": ".py",
   "mimetype": "text/x-python",
   "name": "python",
   "nbconvert_exporter": "python",
   "pygments_lexer": "ipython3",
   "version": "3.11.7"
  }
 },
 "nbformat": 4,
 "nbformat_minor": 5
}
